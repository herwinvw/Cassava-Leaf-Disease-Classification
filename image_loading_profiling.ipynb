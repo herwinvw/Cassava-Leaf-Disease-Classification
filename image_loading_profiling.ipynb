{
 "cells": [
  {
   "cell_type": "markdown",
   "metadata": {},
   "source": [
    "# Profiling image loading"
   ]
  },
  {
   "cell_type": "code",
   "execution_count": 1,
   "metadata": {},
   "outputs": [
    {
     "data": {
      "text/html": [
       "<div>\n",
       "<style scoped>\n",
       "    .dataframe tbody tr th:only-of-type {\n",
       "        vertical-align: middle;\n",
       "    }\n",
       "\n",
       "    .dataframe tbody tr th {\n",
       "        vertical-align: top;\n",
       "    }\n",
       "\n",
       "    .dataframe thead th {\n",
       "        text-align: right;\n",
       "    }\n",
       "</style>\n",
       "<table border=\"1\" class=\"dataframe\">\n",
       "  <thead>\n",
       "    <tr style=\"text-align: right;\">\n",
       "      <th></th>\n",
       "      <th>image_id</th>\n",
       "      <th>label</th>\n",
       "    </tr>\n",
       "  </thead>\n",
       "  <tbody>\n",
       "    <tr>\n",
       "      <th>0</th>\n",
       "      <td>1000015157.jpg</td>\n",
       "      <td>0</td>\n",
       "    </tr>\n",
       "    <tr>\n",
       "      <th>1</th>\n",
       "      <td>1000201771.jpg</td>\n",
       "      <td>3</td>\n",
       "    </tr>\n",
       "    <tr>\n",
       "      <th>2</th>\n",
       "      <td>100042118.jpg</td>\n",
       "      <td>1</td>\n",
       "    </tr>\n",
       "    <tr>\n",
       "      <th>3</th>\n",
       "      <td>1000723321.jpg</td>\n",
       "      <td>1</td>\n",
       "    </tr>\n",
       "    <tr>\n",
       "      <th>4</th>\n",
       "      <td>1000812911.jpg</td>\n",
       "      <td>3</td>\n",
       "    </tr>\n",
       "  </tbody>\n",
       "</table>\n",
       "</div>"
      ],
      "text/plain": [
       "         image_id  label\n",
       "0  1000015157.jpg      0\n",
       "1  1000201771.jpg      3\n",
       "2   100042118.jpg      1\n",
       "3  1000723321.jpg      1\n",
       "4  1000812911.jpg      3"
      ]
     },
     "execution_count": 1,
     "metadata": {},
     "output_type": "execute_result"
    }
   ],
   "source": [
    "import pandas as pd\n",
    "images = pd.read_csv('data/train.csv')\n",
    "images.head()"
   ]
  },
  {
   "cell_type": "markdown",
   "metadata": {},
   "source": [
    "## Reading time from disk"
   ]
  },
  {
   "cell_type": "code",
   "execution_count": 2,
   "metadata": {},
   "outputs": [
    {
     "name": "stdout",
     "output_type": "stream",
     "text": [
      "duration: 170.23132586479187 s\n"
     ]
    }
   ],
   "source": [
    "from PIL import Image\n",
    "import time\n",
    "start = time.time()\n",
    "for image in images['image_id']:\n",
    "    im = Image.open('data/train_images/'+image)\n",
    "    im.load()\n",
    "end = time.time()\n",
    "print('duration:', end-start,'s')"
   ]
  },
  {
   "cell_type": "markdown",
   "metadata": {},
   "source": [
    "## Full image processing time"
   ]
  },
  {
   "cell_type": "code",
   "execution_count": 3,
   "metadata": {},
   "outputs": [],
   "source": [
    "from torch.utils.data import Dataset\n",
    "from PIL import Image\n",
    "from torchvision import transforms\n",
    "\n",
    "class ImageDataset(Dataset):\n",
    "    def __init__(self, images, root_dir, transform=None):\n",
    "        self.images = images\n",
    "        self.root_dir = root_dir\n",
    "        self.transform = transform\n",
    "    \n",
    "    def __len__(self):\n",
    "        return len(self.images)\n",
    "    \n",
    "    def __getitem__(self, idx):\n",
    "        if torch.is_tensor(idx):\n",
    "            idx = idx.tolist()\n",
    "\n",
    "        img_name = self.root_dir+'/'+self.images.iloc[idx, 0]\n",
    "        \n",
    "        with Image.open(img_name) as image:\n",
    "            if self.transform:\n",
    "                image = self.transform(image)\n",
    "\n",
    "        return (image, self.images.iloc[idx, 1])"
   ]
  },
  {
   "cell_type": "code",
   "execution_count": 4,
   "metadata": {},
   "outputs": [],
   "source": [
    "image_folder = ImageDataset(images, \n",
    "                            root_dir='data/train_images', \n",
    "                           transform=transforms.Compose([transforms.Resize((224,224)),                                                         \n",
    "                                                         transforms.ToTensor(),\n",
    "                                                         transforms.Normalize((0.5,0.5,0.5), (0.5,0.5,0.5))\n",
    "                                                        ]))"
   ]
  },
  {
   "cell_type": "code",
   "execution_count": 5,
   "metadata": {},
   "outputs": [
    {
     "name": "stdout",
     "output_type": "stream",
     "text": [
      "duration: 309.4250485897064 s\n"
     ]
    }
   ],
   "source": [
    "import torch\n",
    "start = time.time()\n",
    "loader = torch.utils.data.DataLoader(image_folder)\n",
    "for batch in loader:\n",
    "    _, _ = batch\n",
    "end = time.time()\n",
    "print('duration:', end-start,'s')"
   ]
  },
  {
   "cell_type": "markdown",
   "metadata": {},
   "source": [
    "## Switching to albumations"
   ]
  },
  {
   "cell_type": "code",
   "execution_count": 6,
   "metadata": {},
   "outputs": [],
   "source": [
    "import cv2\n",
    "class ImageDataset(Dataset):\n",
    "    def __init__(self, images, root_dir, transform=None):\n",
    "        self.images = images\n",
    "        self.root_dir = root_dir\n",
    "        self.transform = transform\n",
    "    \n",
    "    def __len__(self):\n",
    "        return len(self.images)\n",
    "    \n",
    "    def __getitem__(self, idx):\n",
    "        if torch.is_tensor(idx):\n",
    "            idx = idx.tolist()\n",
    "\n",
    "        img_name = self.root_dir+'/'+self.images.iloc[idx, 0]\n",
    "        \n",
    "        image = cv2.imread(img_name)\n",
    "        image = cv2.cvtColor(image, cv2.COLOR_BGR2RGB)\n",
    "        if self.transform:\n",
    "            augmented = self.transform(image=image)\n",
    "            image = augmented['image']\n",
    "            \n",
    "        return (image, self.images.iloc[idx, 1])"
   ]
  },
  {
   "cell_type": "code",
   "execution_count": 7,
   "metadata": {},
   "outputs": [],
   "source": [
    "import albumentations as A\n",
    "from albumentations.pytorch import ToTensorV2\n",
    "image_folder = ImageDataset(images, \n",
    "                            root_dir='data/train_images', \n",
    "                           transform=A.Compose([A.Resize(224,224),\n",
    "                                                A.Normalize((0.5,0.5,0.5), (0.5,0.5,0.5)),\n",
    "                                                ToTensorV2()\n",
    "                                                ]))"
   ]
  },
  {
   "cell_type": "code",
   "execution_count": 8,
   "metadata": {},
   "outputs": [
    {
     "name": "stdout",
     "output_type": "stream",
     "text": [
      "duration: 227.74477171897888 s\n"
     ]
    }
   ],
   "source": [
    "import torch\n",
    "start = time.time()\n",
    "loader = torch.utils.data.DataLoader(image_folder)\n",
    "for batch in loader:\n",
    "    _, _ = batch\n",
    "end = time.time()\n",
    "print('duration:', end-start,'s')"
   ]
  },
  {
   "cell_type": "markdown",
   "metadata": {},
   "source": [
    "30% faster"
   ]
  },
  {
   "cell_type": "markdown",
   "metadata": {},
   "source": [
    "## Converting to uncompressed image?"
   ]
  },
  {
   "cell_type": "code",
   "execution_count": 10,
   "metadata": {},
   "outputs": [],
   "source": [
    "import os\n",
    "if not os.path.exists('data/train_images/png'):\n",
    "    os.makedirs('data/train_images/png')\n",
    "    for image in images['image_id']:\n",
    "        im = Image.open('data/train_images/'+image)\n",
    "        im.save('data/train_images/png/'+image.replace('jpg','png'), lossless = True)"
   ]
  },
  {
   "cell_type": "code",
   "execution_count": 11,
   "metadata": {},
   "outputs": [],
   "source": [
    "images_png = images.copy()"
   ]
  },
  {
   "cell_type": "code",
   "execution_count": 12,
   "metadata": {},
   "outputs": [],
   "source": [
    "images_png['image_id'] = images['image_id'].str.replace('jpg','png')"
   ]
  },
  {
   "cell_type": "code",
   "execution_count": 13,
   "metadata": {},
   "outputs": [],
   "source": [
    "image_folder = ImageDataset(images_png, \n",
    "                            root_dir='data/train_images/png', \n",
    "                           transform=A.Compose([A.Resize(224,224),\n",
    "                                                A.Normalize((0.5,0.5,0.5), (0.5,0.5,0.5)),\n",
    "                                                ToTensorV2()\n",
    "                                                ]))"
   ]
  },
  {
   "cell_type": "code",
   "execution_count": 14,
   "metadata": {},
   "outputs": [
    {
     "name": "stdout",
     "output_type": "stream",
     "text": [
      "duration: 558.1080112457275 s\n"
     ]
    }
   ],
   "source": [
    "import torch\n",
    "start = time.time()\n",
    "loader = torch.utils.data.DataLoader(image_folder)\n",
    "for batch in loader:\n",
    "    _, _ = batch\n",
    "end = time.time()\n",
    "print('duration:', end-start,'s')"
   ]
  },
  {
   "cell_type": "markdown",
   "metadata": {},
   "source": [
    "Slows down, apperently smaller filesize beats jpegcompression."
   ]
  },
  {
   "cell_type": "markdown",
   "metadata": {},
   "source": [
    "## Resize"
   ]
  },
  {
   "cell_type": "code",
   "execution_count": 19,
   "metadata": {},
   "outputs": [],
   "source": [
    "import os\n",
    "if not os.path.exists('data/train_images/resize/400'):\n",
    "    os.makedirs('data/train_images/resize/400')\n",
    "    for image in images['image_id']:\n",
    "        im = Image.open('data/train_images/'+image)\n",
    "        im = im.resize((400,300))\n",
    "        im.save('data/train_images/resize/400/'+image)"
   ]
  },
  {
   "cell_type": "code",
   "execution_count": 22,
   "metadata": {},
   "outputs": [],
   "source": [
    "image_folder = ImageDataset(images, \n",
    "                            root_dir='data/train_images/resize/400', \n",
    "                           transform=A.Compose([A.Resize(224,224),\n",
    "                                                A.Normalize((0.5,0.5,0.5), (0.5,0.5,0.5)),\n",
    "                                                ToTensorV2()\n",
    "                                                ]))"
   ]
  },
  {
   "cell_type": "code",
   "execution_count": 23,
   "metadata": {},
   "outputs": [
    {
     "name": "stdout",
     "output_type": "stream",
     "text": [
      "duration: 83.1766836643219 s\n"
     ]
    }
   ],
   "source": [
    "import torch\n",
    "start = time.time()\n",
    "loader = torch.utils.data.DataLoader(image_folder)\n",
    "for batch in loader:\n",
    "    _, _ = batch\n",
    "end = time.time()\n",
    "print('duration:', end-start,'s')"
   ]
  },
  {
   "cell_type": "markdown",
   "metadata": {},
   "source": [
    "Huge speedup by reducing the on-disk image size."
   ]
  },
  {
   "cell_type": "code",
   "execution_count": null,
   "metadata": {},
   "outputs": [],
   "source": []
  }
 ],
 "metadata": {
  "kernelspec": {
   "display_name": "Python 3",
   "language": "python",
   "name": "python3"
  },
  "language_info": {
   "codemirror_mode": {
    "name": "ipython",
    "version": 3
   },
   "file_extension": ".py",
   "mimetype": "text/x-python",
   "name": "python",
   "nbconvert_exporter": "python",
   "pygments_lexer": "ipython3",
   "version": "3.8.3"
  }
 },
 "nbformat": 4,
 "nbformat_minor": 4
}
